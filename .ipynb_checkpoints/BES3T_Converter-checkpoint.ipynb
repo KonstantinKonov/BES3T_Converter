{
 "cells": [
  {
   "cell_type": "code",
   "execution_count": 10,
   "id": "hindu-terrorist",
   "metadata": {},
   "outputs": [],
   "source": [
    "import os\n",
    "\n",
    "import numpy as np\n",
    "import matplotlib.pyplot as plt"
   ]
  },
  {
   "cell_type": "code",
   "execution_count": 24,
   "id": "nervous-diagram",
   "metadata": {},
   "outputs": [],
   "source": [
    "# Read data from binary file DAT\n",
    "class DTA():\n",
    "    '''\n",
    "    The data file class\n",
    "    '''\n",
    "    def __init__(self, filename):\n",
    "        self.dat_filename = filename\n",
    "        self.dsc_filename = os.path.splitext(filename)[0] + '.DSC'\n",
    "        self.dsc_ascii_filename = os.path.splitext(filename)[0] + '_dsc.txt'\n",
    "        \n",
    "        self.data = None\n",
    "        self.x_axis = None\n",
    "        self.y_axis = None\n",
    "        self.csv_header = None\n",
    "        \n",
    "        self.parameters = self.read_dsc(self.dsc_filename) \n",
    "        self.dtype = self.get_dtype()\n",
    "        \n",
    "    '''\n",
    "    Read DSC file and load to parameters attribute\n",
    "    '''\n",
    "    def read_dsc(self, filename):\n",
    "        parameters = dict()\n",
    "        with open(filename) as fp:\n",
    "            lines = fp.readlines()\n",
    "            for line in lines:\n",
    "                if line[0] in ['*', '#', '\\n', '\\t', '.', ' ']:\n",
    "                    continue\n",
    "                parameter_lst = line.split()\n",
    "                parameters[parameter_lst[0]] = ' '.join(parameter_lst[1:])\n",
    "        return parameters\n",
    "    \n",
    "    '''\n",
    "    Export parameters as ASCII file\n",
    "    '''\n",
    "    def dsc_export_ASCII(self, filename=None):\n",
    "        if filename is None:\n",
    "            filename = os.path.splitext(self.dat_filename)[0] + '_dsc.txt'\n",
    "        with open(filename, 'w') as fp:\n",
    "            lines = [(f'{key}\\t{val}\\n') for key, val in self.parameters.items()]\n",
    "            fp.writelines(lines)\n",
    "            \n",
    "    '''\n",
    "    Get data type from parameters and load it to dtype variable\n",
    "    '''\n",
    "    def get_dtype(self):\n",
    "        IRFMT_REAL_dict = {'C': 'b', 'S': 'h', 'I': 'I', 'F': 'f', 'D': 'd'}\n",
    "        IRFMT_CPLX_dict = {'F': 'F', 'D': 'D'}\n",
    "        BSEQ_dict = {'BIG': '>', 'LIT': '<'}\n",
    "        \n",
    "        if self.parameters['IKKF'] == 'CPLX':\n",
    "            return BSEQ_dict[self.parameters['BSEQ']] +\\\n",
    "                    IRFMT_CPLX_dict[self.parameters['IRFMT']]\n",
    "        elif self.parameters['IKKF'] == 'REAL':\n",
    "            return BSEQ_dict[self.parameters['BSEQ']] +\\\n",
    "                    IRFMT_REAL_dict[self.parameters['IRFMT']]\n",
    "        \n",
    "    '''\n",
    "    Load data\n",
    "    '''\n",
    "    def load_data(self):\n",
    "        if self.parameters['YTYP'] == 'NODATA':\n",
    "            self.load_1D()\n",
    "        else:\n",
    "            self.load_2D()\n",
    "        \n",
    "    '''\n",
    "    Constuct csv header\n",
    "    '''\n",
    "    def get_csv_header(self, sep='\\t'):\n",
    "        try:\n",
    "            xnam = self.parameters['XNAM']\n",
    "        except Exception:\n",
    "            print(\"'XNAM' not found in the DSC file\")\n",
    "            xnam = ''\n",
    "        self.csv_header = ['{} ({})'.format(xnam.replace(\"\\'\", ''), self.parameters['XUNI'].replace(\"\\'\", '')),\n",
    "                          '{} ({})\\n'.format(self.parameters['IRNAM'].replace(\"\\'\", ''), self.parameters['IRUNI'].replace(\"\\'\", '')) \n",
    "                          ]\n",
    "        self.csv_header = sep.join(self.csv_header)\n",
    "        \n",
    "    '''\n",
    "    Load 1D data to data attribute\n",
    "    '''\n",
    "    def load_1D(self):\n",
    "        data = np.fromfile(\n",
    "            self.dat_filename, \n",
    "            dtype=self.dtype,\n",
    "            count=-1,\n",
    "            sep='',\n",
    "            offset=0,\n",
    "        )\n",
    "        \n",
    "        xmin = np.double(self.parameters['XMIN'])\n",
    "        xwid = np.double(self.parameters['XWID'])\n",
    "        xpts = int(self.parameters['XPTS'])\n",
    "        x_axis = np.linspace(xmin, xmin + xwid, xpts)\n",
    "        \n",
    "        self.data = ((x_axis, ), data_y)\n",
    "        \n",
    "    '''\n",
    "    Load 2D data to data attribute \n",
    "    '''\n",
    "    def load_2D(self):\n",
    "        \n",
    "        xmin = np.double(self.parameters['XMIN'])\n",
    "        xwid = np.double(self.parameters['XWID'])\n",
    "        xpts = int(self.parameters['XPTS'])\n",
    "        data_x = np.linspace(xmin, xmin + xwid, xpts)\n",
    "        \n",
    "        ypts = int(self.parameters['YPTS'])\n",
    "        ymin = np.double(self.parameters['YMIN'])\n",
    "        ywid = np.double(self.parameters['YWID'])\n",
    "        \n",
    "        data_y = np.fromfile(\n",
    "            self.dat_filename, \n",
    "            dtype=self.dtype,\n",
    "            count=-1,\n",
    "            sep='',\n",
    "            offset=0,\n",
    "        )\n",
    "        data_y = data_y.reshape(ypts, xpts).T\n",
    "        \n",
    "        self.y_axis = self.load_YGF()\n",
    "        \n",
    "    '''\n",
    "    Load y-axis scan from ygf file and load it to y_axis attribute\n",
    "    '''\n",
    "    def load_YGF(self):\n",
    "        filename = os.path.splitext(self.dat_filename)[0] + '.YGF'\n",
    "        self.y_axis = np.fromfile(\n",
    "            filename,\n",
    "            dtype=self.dtype,\n",
    "            count=-1,\n",
    "            sep='',\n",
    "            offset=0,\n",
    "        )   \n",
    "        self.data = (data_x, data_y, self.y_axis)\n",
    "    \n",
    "    '''\n",
    "    Export data to ASCII file\n",
    "    '''\n",
    "    def data_export_ASCII(self, filename=None, sep='\\t', fmt='%.6f'):\n",
    "        if filename is None:\n",
    "            filename = os.path.splitext(self.dat_filename)[0] + '.dat'\n",
    "        data_to_save = np.column_stack(self.data)\n",
    "        with open(filename, 'w') as fp:\n",
    "            np.savetxt(fp, data_to_save, delimiter=sep, fmt=fmt)\n",
    "            \n",
    "    '''\n",
    "    Export data to csv file\n",
    "    '''\n",
    "    def export_csv(self, filename=None, sep=',', fmt='%.6f', header=True ):\n",
    "        if filename is None:\n",
    "            filename = os.path.splitext(self.dat_filename)[0] + '.csv'\n",
    "        data_to_save = np.column_stack(self.data)\n",
    "        with open(filename, 'w') as fp:\n",
    "            if header:\n",
    "                fp.write(self.get_csv_header(sep=sep))\n",
    "            np.savetxt(fp, data_to_save, delimiter=sep, fmt=fmt)"
   ]
  },
  {
   "cell_type": "code",
   "execution_count": 26,
   "id": "cleared-performer",
   "metadata": {},
   "outputs": [
    {
     "ename": "NameError",
     "evalue": "name 'data_x' is not defined",
     "output_type": "error",
     "traceback": [
      "\u001b[0;31m---------------------------------------------------------------------------\u001b[0m",
      "\u001b[0;31mNameError\u001b[0m                                 Traceback (most recent call last)",
      "\u001b[0;32m<ipython-input-26-16c4a644f1a5>\u001b[0m in \u001b[0;36m<module>\u001b[0;34m\u001b[0m\n\u001b[1;32m      1\u001b[0m \u001b[0;31m# Testing\u001b[0m\u001b[0;34m\u001b[0m\u001b[0;34m\u001b[0m\u001b[0;34m\u001b[0m\u001b[0m\n\u001b[1;32m      2\u001b[0m \u001b[0mdta\u001b[0m \u001b[0;34m=\u001b[0m \u001b[0mDTA\u001b[0m\u001b[0;34m(\u001b[0m\u001b[0;34m'./data/2D/80K_redplane_CW_15dB.DTA'\u001b[0m\u001b[0;34m)\u001b[0m\u001b[0;34m\u001b[0m\u001b[0;34m\u001b[0m\u001b[0m\n\u001b[0;32m----> 3\u001b[0;31m \u001b[0mdta\u001b[0m\u001b[0;34m.\u001b[0m\u001b[0mload_data\u001b[0m\u001b[0;34m(\u001b[0m\u001b[0;34m)\u001b[0m\u001b[0;34m\u001b[0m\u001b[0;34m\u001b[0m\u001b[0m\n\u001b[0m",
      "\u001b[0;32m<ipython-input-24-12d4749b51dd>\u001b[0m in \u001b[0;36mload_data\u001b[0;34m(self)\u001b[0m\n\u001b[1;32m     63\u001b[0m             \u001b[0mself\u001b[0m\u001b[0;34m.\u001b[0m\u001b[0mload_1D\u001b[0m\u001b[0;34m(\u001b[0m\u001b[0;34m)\u001b[0m\u001b[0;34m\u001b[0m\u001b[0;34m\u001b[0m\u001b[0m\n\u001b[1;32m     64\u001b[0m         \u001b[0;32melse\u001b[0m\u001b[0;34m:\u001b[0m\u001b[0;34m\u001b[0m\u001b[0;34m\u001b[0m\u001b[0m\n\u001b[0;32m---> 65\u001b[0;31m             \u001b[0mself\u001b[0m\u001b[0;34m.\u001b[0m\u001b[0mload_2D\u001b[0m\u001b[0;34m(\u001b[0m\u001b[0;34m)\u001b[0m\u001b[0;34m\u001b[0m\u001b[0;34m\u001b[0m\u001b[0m\n\u001b[0m\u001b[1;32m     66\u001b[0m \u001b[0;34m\u001b[0m\u001b[0m\n\u001b[1;32m     67\u001b[0m     '''\n",
      "\u001b[0;32m<ipython-input-24-12d4749b51dd>\u001b[0m in \u001b[0;36mload_2D\u001b[0;34m(self)\u001b[0m\n\u001b[1;32m    122\u001b[0m         \u001b[0mdata_y\u001b[0m \u001b[0;34m=\u001b[0m \u001b[0mdata_y\u001b[0m\u001b[0;34m.\u001b[0m\u001b[0mreshape\u001b[0m\u001b[0;34m(\u001b[0m\u001b[0mypts\u001b[0m\u001b[0;34m,\u001b[0m \u001b[0mxpts\u001b[0m\u001b[0;34m)\u001b[0m\u001b[0;34m.\u001b[0m\u001b[0mT\u001b[0m\u001b[0;34m\u001b[0m\u001b[0;34m\u001b[0m\u001b[0m\n\u001b[1;32m    123\u001b[0m \u001b[0;34m\u001b[0m\u001b[0m\n\u001b[0;32m--> 124\u001b[0;31m         \u001b[0mself\u001b[0m\u001b[0;34m.\u001b[0m\u001b[0my_axis\u001b[0m \u001b[0;34m=\u001b[0m \u001b[0mself\u001b[0m\u001b[0;34m.\u001b[0m\u001b[0mload_YGF\u001b[0m\u001b[0;34m(\u001b[0m\u001b[0;34m)\u001b[0m\u001b[0;34m\u001b[0m\u001b[0;34m\u001b[0m\u001b[0m\n\u001b[0m\u001b[1;32m    125\u001b[0m \u001b[0;34m\u001b[0m\u001b[0m\n\u001b[1;32m    126\u001b[0m     '''\n",
      "\u001b[0;32m<ipython-input-24-12d4749b51dd>\u001b[0m in \u001b[0;36mload_YGF\u001b[0;34m(self)\u001b[0m\n\u001b[1;32m    136\u001b[0m             \u001b[0moffset\u001b[0m\u001b[0;34m=\u001b[0m\u001b[0;36m0\u001b[0m\u001b[0;34m,\u001b[0m\u001b[0;34m\u001b[0m\u001b[0;34m\u001b[0m\u001b[0m\n\u001b[1;32m    137\u001b[0m         )   \n\u001b[0;32m--> 138\u001b[0;31m         \u001b[0mself\u001b[0m\u001b[0;34m.\u001b[0m\u001b[0mdata\u001b[0m \u001b[0;34m=\u001b[0m \u001b[0;34m(\u001b[0m\u001b[0mdata_x\u001b[0m\u001b[0;34m,\u001b[0m \u001b[0mdata_y\u001b[0m\u001b[0;34m,\u001b[0m \u001b[0mself\u001b[0m\u001b[0;34m.\u001b[0m\u001b[0my_axis\u001b[0m\u001b[0;34m)\u001b[0m\u001b[0;34m\u001b[0m\u001b[0;34m\u001b[0m\u001b[0m\n\u001b[0m\u001b[1;32m    139\u001b[0m \u001b[0;34m\u001b[0m\u001b[0m\n\u001b[1;32m    140\u001b[0m     '''\n",
      "\u001b[0;31mNameError\u001b[0m: name 'data_x' is not defined"
     ]
    }
   ],
   "source": [
    "# Testing \n",
    "dta = DTA('./data/2D/80K_redplane_CW_15dB.DTA')\n",
    "dta.load_data()"
   ]
  },
  {
   "cell_type": "code",
   "execution_count": 7,
   "id": "extensive-construction",
   "metadata": {},
   "outputs": [
    {
     "name": "stdout",
     "output_type": "stream",
     "text": [
      "[  0.  20.  40.  60.  80. 100. 120. 140. 160. 180. 200. 220. 240. 260.\n",
      " 280. 300. 320. 340.]\n"
     ]
    }
   ],
   "source": [
    "print(dta.y_axis)"
   ]
  },
  {
   "cell_type": "code",
   "execution_count": 24,
   "id": "piano-albany",
   "metadata": {},
   "outputs": [
    {
     "data": {
      "image/png": "[encoded data removed]",
      "text/plain": [
       "<Figure size 432x288 with 1 Axes>"
      ]
     },
     "metadata": {
      "needs_background": "light"
     },
     "output_type": "display_data"
    }
   ],
   "source": [
    "plt.plot(dat.data[0], dat.data[1][:, 0]);"
   ]
  },
  {
   "cell_type": "code",
   "execution_count": 12,
   "id": "excellent-planner",
   "metadata": {},
   "outputs": [],
   "source": [
    "dsc = DSC('./data/en5107d2_echodecay1.DSC')\n",
    "dsc.read_dsc()\n",
    "\n",
    "dta = DTA('./data/en5107d2_echodecay1.DTA', dsc.parameters)\n",
    "dta.load_data()"
   ]
  },
  {
   "cell_type": "code",
   "execution_count": 18,
   "id": "desirable-crawford",
   "metadata": {},
   "outputs": [
    {
     "data": {
      "image/png": "[encoded data removed]",
      "text/plain": [
       "<Figure size 432x288 with 1 Axes>"
      ]
     },
     "metadata": {
      "needs_background": "light"
     },
     "output_type": "display_data"
    }
   ],
   "source": [
    "plt.plot(dat.data[0], np.real(dat.data[1]));"
   ]
  },
  {
   "cell_type": "code",
   "execution_count": null,
   "id": "toxic-bunch",
   "metadata": {},
   "outputs": [],
   "source": []
  },
  {
   "cell_type": "code",
   "execution_count": null,
   "id": "spectacular-tsunami",
   "metadata": {},
   "outputs": [],
   "source": []
  },
  {
   "cell_type": "code",
   "execution_count": null,
   "id": "coupled-toner",
   "metadata": {},
   "outputs": [],
   "source": []
  }
 ],
 "metadata": {
  "kernelspec": {
   "display_name": "Python 3",
   "language": "python",
   "name": "python3"
  },
  "language_info": {
   "codemirror_mode": {
    "name": "ipython",
    "version": 3
   },
   "file_extension": ".py",
   "mimetype": "text/x-python",
   "name": "python",
   "nbconvert_exporter": "python",
   "pygments_lexer": "ipython3",
   "version": "3.8.10"
  }
 },
 "nbformat": 4,
 "nbformat_minor": 5
}
