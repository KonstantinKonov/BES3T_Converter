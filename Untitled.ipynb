{
 "cells": [
  {
   "cell_type": "code",
   "execution_count": 214,
   "id": "pregnant-storage",
   "metadata": {},
   "outputs": [],
   "source": [
    "import os\n",
    "\n",
    "import numpy as np\n",
    "import matplotlib.pyplot as plt"
   ]
  },
  {
   "cell_type": "code",
   "execution_count": 58,
   "id": "impaired-stomach",
   "metadata": {},
   "outputs": [],
   "source": [
    "# Read parameters from DSC\n",
    "class DSC():\n",
    "    '''\n",
    "    The descriptor file class.\n",
    "    '''\n",
    "    def __init__(self, dsc_filename):\n",
    "        self.dsc_filename = dsc_filename\n",
    "        \n",
    "    def read_dsc(self):\n",
    "        self.parameters = dict()\n",
    "        with open(self.dsc_filename) as fp:\n",
    "            lines = fp.readlines()\n",
    "            for line in lines:\n",
    "                if line[0] in ['*', '#', '\\n', '\\t', '.', ' ']:\n",
    "                    continue\n",
    "                parameter_lst = line.split()\n",
    "                self.parameters[parameter_lst[0]] = ' '.join(parameter_lst[1:])\n",
    "    \n",
    "    def export_ASCII(self, filename):\n",
    "        with open(filename, 'w') as fp:\n",
    "            lines = [(f'{key}\\t{val}\\n') for key, val in self.parameters.items()]\n",
    "            fp.writelines(lines)"
   ]
  },
  {
   "cell_type": "code",
   "execution_count": 295,
   "id": "equal-literacy",
   "metadata": {},
   "outputs": [],
   "source": [
    "# Read data from binary file DAT\n",
    "class DAT():\n",
    "    '''\n",
    "    The data file class\n",
    "    '''\n",
    "    def __init__(self, dat_filename, parameters):\n",
    "        self.dat_filename = dat_filename\n",
    "        self.parameters = parameters\n",
    "        self.data = None\n",
    "        self.csv_header = None\n",
    "        self.dtype = self.get_dtype()\n",
    "    \n",
    "    def get_dtype(self):\n",
    "        self.IRFMT_REAL_dict = {'C': 'b', 'S': 'h', 'I': 'I', 'F': 'f', 'D': 'd'}\n",
    "        self.IRFMT_CPLX_dict = {'F': 'F', 'D': 'D'}\n",
    "        self.BSEQ_dict = {'BIG': '>', 'LIT': '<'}\n",
    "        \n",
    "        if self.parameters['IKKF'] == 'CPLX':\n",
    "            return self.BSEQ_dict[self.parameters['BSEQ']] +\\\n",
    "                    self.IRFMT_CPLX_dict[self.parameters['IRFMT']]\n",
    "        elif self.parameters['IKKF'] == 'REAL':\n",
    "            return self.BSEQ_dict[self.parameters['BSEQ']] +\\\n",
    "                    self.IRFMT_REAL_dict[self.parameters['IRFMT']]\n",
    "        \n",
    "    def load_data(self):\n",
    "        if self.parameters['YTYP'] == 'NODATA':\n",
    "            self.load_1D()\n",
    "        else:\n",
    "            self.load_2D()\n",
    "        \n",
    "    def get_csv_header(self, sep='\\t'):\n",
    "        try:\n",
    "            xnam = self.parameters['XNAM']\n",
    "        except Exception:\n",
    "            print(\"'XNAM' not found in the DSC file\")\n",
    "            xnam = ''\n",
    "        self.csv_header = ['{} ({})'.format(xnam.replace(\"\\'\", ''), self.parameters['XUNI'].replace(\"\\'\", '')),\n",
    "                          '{} ({})\\n'.format(self.parameters['IRNAM'].replace(\"\\'\", ''), self.parameters['IRUNI'].replace(\"\\'\", '')) \n",
    "                          ]\n",
    "        self.csv_header = sep.join(self.csv_header)\n",
    "        \n",
    "        \n",
    "    def load_1D(self):\n",
    "        data_y = np.fromfile(\n",
    "            self.dat_filename, \n",
    "            dtype=self.dtype,\n",
    "            count=-1,\n",
    "            sep='',\n",
    "            offset=0,\n",
    "        )\n",
    "        \n",
    "        xmin = np.double(self.parameters['XMIN'])\n",
    "        xwid = np.double(self.parameters['XWID'])\n",
    "        xpts = int(self.parameters['XPTS'])\n",
    "        data_x = np.linspace(xmin, xmin + xwid, xpts)\n",
    "        \n",
    "        self.data = (data_x, data_y)\n",
    "        #self.data = np.column_stack((data_x, data_y))\n",
    "        \n",
    "    def load_2D(self):\n",
    "        \n",
    "        xmin = np.double(self.parameters['XMIN'])\n",
    "        xwid = np.double(self.parameters['XWID'])\n",
    "        xpts = int(self.parameters['XPTS'])\n",
    "        data_x = np.linspace(xmin, xmin + xwid, xpts)\n",
    "        \n",
    "        ypts = int(self.parameters['YPTS'])\n",
    "        ymin = np.double(self.parameters['YMIN'])\n",
    "        ywid = np.double(self.parameters['YWID'])\n",
    "        \n",
    "        data_y = np.fromfile(\n",
    "            self.dat_filename, \n",
    "            dtype=self.dtype,\n",
    "            count=-1,\n",
    "            sep='',\n",
    "            offset=0,\n",
    "        )\n",
    "        data_y = data_y.reshape(ypts, xpts).T\n",
    "        \n",
    "        self.data = (data_x, data_y)\n",
    "    \n",
    "    def export_ASCII(self, path=None, filename=None, sep='\\t', fmt='%.6f'):\n",
    "        if filename is None:\n",
    "            filename = os.path.splitext(self.dat_filename)[0] + '.dat'\n",
    "        data_to_save = np.column_stack(self.data)\n",
    "        with open(filename, 'w') as fp:\n",
    "            np.savetxt(fp, data_to_save, delimiter=sep, fmt=fmt)\n",
    "            \n",
    "    def export_csv(self, path=None, filename=None, sep=',', fmt='%.6f', header=True ):\n",
    "        if filename is None:\n",
    "            filename = os.path.splitext(self.dat_filename)[0] + '.csv'\n",
    "        data_to_save = np.column_stack(self.data)\n",
    "        with open(filename, 'w') as fp:\n",
    "            if header:\n",
    "                fp.write(self.get_csv_header(sep=sep))\n",
    "            np.savetxt(fp, data_to_save, delimiter=sep, fmt=fmt)"
   ]
  },
  {
   "cell_type": "code",
   "execution_count": 296,
   "id": "finite-blake",
   "metadata": {},
   "outputs": [
    {
     "data": {
      "text/plain": [
       "array([  250.    ,   251.9375,   253.875 , ..., 15744.1875, 15746.125 ,\n",
       "       15748.0625])"
      ]
     },
     "execution_count": 296,
     "metadata": {},
     "output_type": "execute_result"
    }
   ],
   "source": [
    "# Testing \n",
    "dsc = DSC('./data/2D/80K_redplane_CW_15dB.DSC')\n",
    "dsc.read_dsc()\n",
    "\n",
    "dat = DAT('./data/2D/80K_redplane_CW_15dB.DTA', dsc.parameters)\n",
    "dat.load_data()\n",
    "#dat.export_ASCII()\n",
    "#dat.export_csv()\n",
    "\n",
    "#plt.plot(dat.data[0], np.real(dat.data[1]), label='real');\n",
    "#plt.plot(dat.data[0], np.imag(dat.data[1]), label='imag');\n",
    "#plt.xlabel(dat.csv_header[0]);\n",
    "#plt.ylabel(dat.csv_header[1]);\n",
    "#plt.title(dat.parameters['TITL'].replace(\"\\'\", ''));\n",
    "#plt.legend();\n",
    "dat.data[0]"
   ]
  },
  {
   "cell_type": "code",
   "execution_count": 310,
   "id": "billion-rocket",
   "metadata": {},
   "outputs": [
    {
     "data": {
      "image/png": "[encoded data removed]",
      "text/plain": [
       "<Figure size 432x288 with 1 Axes>"
      ]
     },
     "metadata": {
      "needs_background": "light"
     },
     "output_type": "display_data"
    }
   ],
   "source": [
    "plt.plot(dat.data[0], dat.data[1][:, 0]);"
   ]
  },
  {
   "cell_type": "code",
   "execution_count": null,
   "id": "czech-criminal",
   "metadata": {},
   "outputs": [],
   "source": []
  },
  {
   "cell_type": "code",
   "execution_count": null,
   "id": "posted-services",
   "metadata": {},
   "outputs": [],
   "source": []
  },
  {
   "cell_type": "code",
   "execution_count": null,
   "id": "accepted-sound",
   "metadata": {},
   "outputs": [],
   "source": []
  }
 ],
 "metadata": {
  "kernelspec": {
   "display_name": "Python 3",
   "language": "python",
   "name": "python3"
  },
  "language_info": {
   "codemirror_mode": {
    "name": "ipython",
    "version": 3
   },
   "file_extension": ".py",
   "mimetype": "text/x-python",
   "name": "python",
   "nbconvert_exporter": "python",
   "pygments_lexer": "ipython3",
   "version": "3.8.10"
  }
 },
 "nbformat": 4,
 "nbformat_minor": 5
}
