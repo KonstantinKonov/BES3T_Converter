{
 "cells": [
  {
   "cell_type": "code",
   "execution_count": 10,
   "id": "cubic-signature",
   "metadata": {},
   "outputs": [],
   "source": [
    "import os\n",
    "\n",
    "import numpy as np\n",
    "import matplotlib.pyplot as plt"
   ]
  },
  {
   "cell_type": "code",
   "execution_count": 58,
   "id": "vocal-celebration",
   "metadata": {},
   "outputs": [],
   "source": [
    "# Read data from binary file DAT\n",
    "class DTA():\n",
    "    '''\n",
    "    The data file class\n",
    "    '''\n",
    "    def __init__(self, filename):\n",
    "        self.dat_filename = filename\n",
    "        self.dsc_filename = os.path.splitext(filename)[0] + '.DSC'\n",
    "        self.dsc_ascii_filename = os.path.splitext(filename)[0] + '_dsc.txt'\n",
    "        \n",
    "        self.data = None\n",
    "        self.x_axis = None\n",
    "        self.y_axis = None\n",
    "        self.csv_header = None\n",
    "        \n",
    "        self.parameters = self.read_dsc(self.dsc_filename) \n",
    "        self.dtype = self.get_dtype()\n",
    "        \n",
    "    '''\n",
    "    Read DSC file and load to parameters attribute\n",
    "    '''\n",
    "    def read_dsc(self, filename):\n",
    "        parameters = dict()\n",
    "        with open(filename) as fp:\n",
    "            lines = fp.readlines()\n",
    "            for line in lines:\n",
    "                if line[0] in ['*', '#', '\\n', '\\t', '.', ' ']:\n",
    "                    continue\n",
    "                parameter_lst = line.split()\n",
    "                parameters[parameter_lst[0]] = ' '.join(parameter_lst[1:])\n",
    "        return parameters\n",
    "    \n",
    "    '''\n",
    "    Export parameters as ASCII file\n",
    "    '''\n",
    "    def dsc_export_ASCII(self, filename=None):\n",
    "        if filename is None:\n",
    "            filename = os.path.splitext(self.dat_filename)[0] + '_dsc.txt'\n",
    "        with open(filename, 'w') as fp:\n",
    "            lines = [(f'{key}\\t{val}\\n') for key, val in self.parameters.items()]\n",
    "            fp.writelines(lines)\n",
    "            \n",
    "    '''\n",
    "    Get data type from parameters and load it to dtype variable\n",
    "    '''\n",
    "    def get_dtype(self):\n",
    "        IRFMT_REAL_dict = {'C': 'b', 'S': 'h', 'I': 'I', 'F': 'f', 'D': 'd'}\n",
    "        IRFMT_CPLX_dict = {'F': 'F', 'D': 'D'}\n",
    "        BSEQ_dict = {'BIG': '>', 'LIT': '<'}\n",
    "        \n",
    "        if self.parameters['IKKF'] == 'CPLX':\n",
    "            return BSEQ_dict[self.parameters['BSEQ']] +\\\n",
    "                    IRFMT_CPLX_dict[self.parameters['IRFMT']]\n",
    "        elif self.parameters['IKKF'] == 'REAL':\n",
    "            return BSEQ_dict[self.parameters['BSEQ']] +\\\n",
    "                    IRFMT_REAL_dict[self.parameters['IRFMT']]\n",
    "        \n",
    "    '''\n",
    "    Load data\n",
    "    '''\n",
    "    def load_data(self):\n",
    "        if self.parameters['YTYP'] == 'NODATA':\n",
    "            self.load_1D()\n",
    "        else:\n",
    "            self.load_2D()\n",
    "        \n",
    "    '''\n",
    "    Constuct csv header\n",
    "    '''\n",
    "    def get_csv_header(self, sep='\\t'):\n",
    "        try:\n",
    "            xnam = self.parameters['XNAM']\n",
    "        except Exception:\n",
    "            print(\"'XNAM' not found in the DSC file\")\n",
    "            xnam = ''\n",
    "        self.csv_header = ['{} ({})'.format(xnam.replace(\"\\'\", ''), self.parameters['XUNI'].replace(\"\\'\", '')),\n",
    "                          '{} ({})\\n'.format(self.parameters['IRNAM'].replace(\"\\'\", ''), self.parameters['IRUNI'].replace(\"\\'\", '')) \n",
    "                          ]\n",
    "        self.csv_header = sep.join(self.csv_header)\n",
    "        \n",
    "    '''\n",
    "    Load 1D data to data attribute\n",
    "    '''\n",
    "    def load_1D(self):\n",
    "        data = np.fromfile(\n",
    "            self.dat_filename, \n",
    "            dtype=self.dtype,\n",
    "            count=-1,\n",
    "            sep='',\n",
    "            offset=0,\n",
    "        )\n",
    "        \n",
    "        xmin = np.double(self.parameters['XMIN'])\n",
    "        xwid = np.double(self.parameters['XWID'])\n",
    "        xpts = int(self.parameters['XPTS'])\n",
    "        x_axis = np.linspace(xmin, xmin + xwid, xpts)\n",
    "        \n",
    "        self.data = ((x_axis, ), data)\n",
    "        \n",
    "    '''\n",
    "    Load 2D data to data attribute \n",
    "    '''\n",
    "    def load_2D(self):\n",
    "        \n",
    "        xmin = np.double(self.parameters['XMIN'])\n",
    "        xwid = np.double(self.parameters['XWID'])\n",
    "        xpts = int(self.parameters['XPTS'])\n",
    "        x_axis = np.linspace(xmin, xmin + xwid, xpts)\n",
    "        \n",
    "        ypts = int(self.parameters['YPTS'])\n",
    "        ymin = np.double(self.parameters['YMIN'])\n",
    "        ywid = np.double(self.parameters['YWID'])\n",
    "        if self.parameters['YTYP'] == 'IDY':\n",
    "            y_axis = np.linspace(ymin, ymin + ywid, ypts)\n",
    "        elif self.parameters['YTYP'] == 'IGD':\n",
    "            y_axis = self.load_YGF()\n",
    "        else:\n",
    "            # unknown y-axis values\n",
    "            pass\n",
    "            \n",
    "        data = np.fromfile(\n",
    "            self.dat_filename, \n",
    "            dtype=self.dtype,\n",
    "            count=-1,\n",
    "            sep='',\n",
    "            offset=0,\n",
    "        )\n",
    "        data = data.reshape(ypts, xpts).T\n",
    "        \n",
    "        self.data = ((x_axis, y_axis), data)\n",
    "        \n",
    "    '''\n",
    "    Load y-axis scan from ygf file and load it to y_axis attribute\n",
    "    '''\n",
    "    def load_YGF(self):\n",
    "        filename = os.path.splitext(self.dat_filename)[0] + '.YGF'\n",
    "        y_axis = np.fromfile(\n",
    "            filename,\n",
    "            dtype=self.dtype,\n",
    "            count=-1,\n",
    "            sep='',\n",
    "            offset=0,\n",
    "        )   \n",
    "        return y_axis\n",
    "    \n",
    "    '''\n",
    "    Export data to ASCII file\n",
    "    '''\n",
    "    def data_export_ASCII(self, filename=None, sep='\\t', fmt='%.6f'):\n",
    "        if filename is None:\n",
    "            filename = os.path.splitext(self.dat_filename)[0] + '.dat'\n",
    "        data_to_save = np.column_stack(self.data)\n",
    "        with open(filename, 'w') as fp:\n",
    "            np.savetxt(fp, data_to_save, delimiter=sep, fmt=fmt)\n",
    "            \n",
    "    '''\n",
    "    Export data to csv file\n",
    "    '''\n",
    "    def export_csv(self, filename=None, sep=',', fmt='%.6f', header=True ):\n",
    "        if filename is None:\n",
    "            filename = os.path.splitext(self.dat_filename)[0] + '.csv'\n",
    "        data_to_save = np.column_stack(self.data)\n",
    "        with open(filename, 'w') as fp:\n",
    "            if header:\n",
    "                fp.write(self.get_csv_header(sep=sep))\n",
    "            np.savetxt(fp, data_to_save, delimiter=sep, fmt=fmt)"
   ]
  },
  {
   "cell_type": "code",
   "execution_count": 59,
   "id": "dental-working",
   "metadata": {},
   "outputs": [],
   "source": [
    "# Testing \n",
    "dta = DTA('./data/2D/80K_redplane_CW_15dB.DTA')\n",
    "dta.load_data()"
   ]
  },
  {
   "cell_type": "code",
   "execution_count": 69,
   "id": "antique-internet",
   "metadata": {},
   "outputs": [
    {
     "data": {
      "image/png": "[encoded data removed]",
      "text/plain": [
       "<Figure size 432x288 with 1 Axes>"
      ]
     },
     "metadata": {
      "needs_background": "light"
     },
     "output_type": "display_data"
    }
   ],
   "source": [
    "plt.plot(dta.data[0][0], dta.data[1][:, 5]);"
   ]
  },
  {
   "cell_type": "code",
   "execution_count": null,
   "id": "disciplinary-snapshot",
   "metadata": {},
   "outputs": [],
   "source": []
  },
  {
   "cell_type": "code",
   "execution_count": 12,
   "id": "greater-audit",
   "metadata": {},
   "outputs": [],
   "source": [
    "dsc = DSC('./data/en5107d2_echodecay1.DSC')\n",
    "dsc.read_dsc()\n",
    "\n",
    "dta = DTA('./data/en5107d2_echodecay1.DTA', dsc.parameters)\n",
    "dta.load_data()"
   ]
  },
  {
   "cell_type": "code",
   "execution_count": 18,
   "id": "above-trace",
   "metadata": {},
   "outputs": [
    {
     "data": {
      "image/png": "[encoded data removed]",
      "text/plain": [
       "<Figure size 432x288 with 1 Axes>"
      ]
     },
     "metadata": {
      "needs_background": "light"
     },
     "output_type": "display_data"
    }
   ],
   "source": [
    "plt.plot(dat.data[0], np.real(dat.data[1]));"
   ]
  },
  {
   "cell_type": "code",
   "execution_count": null,
   "id": "beneficial-johns",
   "metadata": {},
   "outputs": [],
   "source": []
  },
  {
   "cell_type": "code",
   "execution_count": null,
   "id": "failing-supply",
   "metadata": {},
   "outputs": [],
   "source": []
  },
  {
   "cell_type": "code",
   "execution_count": null,
   "id": "copyrighted-referral",
   "metadata": {},
   "outputs": [],
   "source": []
  }
 ],
 "metadata": {
  "kernelspec": {
   "display_name": "Python 3",
   "language": "python",
   "name": "python3"
  },
  "language_info": {
   "codemirror_mode": {
    "name": "ipython",
    "version": 3
   },
   "file_extension": ".py",
   "mimetype": "text/x-python",
   "name": "python",
   "nbconvert_exporter": "python",
   "pygments_lexer": "ipython3",
   "version": "3.8.10"
  }
 },
 "nbformat": 4,
 "nbformat_minor": 5
}
